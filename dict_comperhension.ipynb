{
 "cells": [
  {
   "cell_type": "code",
   "execution_count": null,
   "metadata": {},
   "outputs": [],
   "source": [
    "# Dictionary comperhension"
   ]
  },
  {
   "cell_type": "code",
   "execution_count": null,
   "metadata": {},
   "outputs": [],
   "source": [
    "# Creating a Dictionary of Squares (Basic)\n",
    "square = {num : num**2 for num in range(1,10)}"
   ]
  },
  {
   "cell_type": "code",
   "execution_count": null,
   "metadata": {},
   "outputs": [],
   "source": [
    "# Filtering Even Numbers in a Dictionary\n",
    "square = {num : num**2 for num in range(1,10) if num % 2 == 0}"
   ]
  },
  {
   "cell_type": "code",
   "execution_count": null,
   "metadata": {},
   "outputs": [],
   "source": [
    "# Swapping Keys & Values in a Dictionary\n",
    "field = {'amir':'biology', 'ali':'physics', 'salar':'engineering'}\n",
    "swap_field = {value : key for key, value in field.items()}"
   ]
  },
  {
   "cell_type": "code",
   "execution_count": 3,
   "metadata": {},
   "outputs": [],
   "source": [
    "# Counting Character Frequency in a String\n",
    "strings = 'freestyle'\n",
    "counter = {char : strings.count(char) for char in set(strings)}"
   ]
  },
  {
   "cell_type": "code",
   "execution_count": null,
   "metadata": {},
   "outputs": [],
   "source": [
    "# Mapping Numbers to Their Categories\n",
    "numbers = range(1,10)\n",
    "dict_num = {num : 'Even' if num % 2 == 0 else 'odd' for num in numbers }"
   ]
  },
  {
   "cell_type": "code",
   "execution_count": 9,
   "metadata": {},
   "outputs": [],
   "source": [
    "# Extracting Specific Key-Value Pairs\n",
    "age = {'amir':27, 'ali':26, 'salar':25, 'farzin':29}\n",
    "under_27 = {key: value for key, value in age.items() if value < 27}"
   ]
  },
  {
   "cell_type": "code",
   "execution_count": 11,
   "metadata": {},
   "outputs": [],
   "source": [
    "# Creating a Dictionary from Two Lists\n",
    "keys = ['age','country','field']\n",
    "values = [27, 'iran', 'bio']\n",
    "my_dic = {keys[i] : values[i] for i in range(len(values))}"
   ]
  }
 ],
 "metadata": {
  "kernelspec": {
   "display_name": "Python 3",
   "language": "python",
   "name": "python3"
  },
  "language_info": {
   "codemirror_mode": {
    "name": "ipython",
    "version": 3
   },
   "file_extension": ".py",
   "mimetype": "text/x-python",
   "name": "python",
   "nbconvert_exporter": "python",
   "pygments_lexer": "ipython3",
   "version": "3.10.4"
  }
 },
 "nbformat": 4,
 "nbformat_minor": 2
}
